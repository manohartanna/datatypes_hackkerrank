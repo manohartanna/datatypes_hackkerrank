{
 "cells": [
  {
   "cell_type": "code",
   "execution_count": 5,
   "id": "612e20a5",
   "metadata": {},
   "outputs": [
    {
     "name": "stdout",
     "output_type": "stream",
     "text": [
      "50\n"
     ]
    }
   ],
   "source": [
    "n = [10,20,30,40,50,60]\n",
    "print(sorted(set(n), reverse=True)[1])"
   ]
  },
  {
   "cell_type": "code",
   "execution_count": null,
   "id": "6fd37ad3",
   "metadata": {},
   "outputs": [],
   "source": [
    "Rt =[]\n",
    "scolist = []\n",
    "\n",
    "if __name__ == '__main__':\n",
    "    for _ in range(int(input())):\n",
    "        name = input()\n",
    "        score = float(input())\n",
    "        Rt+=[[name,score]]\n",
    "        scolist+=[score]\n",
    "    c=sorted(list(set(scolist)))[1] \n",
    "\n",
    "    for i,x in sorted(Rt):\n",
    "        if x==c:\n",
    "            print(i)"
   ]
  },
  {
   "cell_type": "code",
   "execution_count": null,
   "id": "372c0e51",
   "metadata": {},
   "outputs": [],
   "source": [
    "if __name__ == '__main__':\n",
    "    n = int(input())\n",
    "    student_marks = {}\n",
    "    for _ in range(n):\n",
    "        name, *line = input().split()\n",
    "        scores = list(map(float, line))\n",
    "        student_marks[name] = scores\n",
    "    query_name = input()\n",
    "    a = student_marks[query_name]\n",
    "    avrg = sum(a)/len(a)\n",
    "    print(\"%.2f\" % avrg)"
   ]
  },
  {
   "cell_type": "code",
   "execution_count": null,
   "id": "f8bb3bb8",
   "metadata": {},
   "outputs": [],
   "source": [
    "if __name__ == '__main__':\n",
    "    N = int(input())\n",
    "    m = []\n",
    "    for i in range(N):\n",
    "        o = list(input().split())\n",
    "        if o[0]=='insert':\n",
    "            m.insert(int(o[1]),int(o[2]))\n",
    "        if o[0]=='remove':\n",
    "            m.remove(int(o[1]))\n",
    "        if o[0]=='append':\n",
    "            m.append(int(o[1]))\n",
    "        if o[0]=='sort':\n",
    "            m.sort()\n",
    "        if o[0]=='pop':\n",
    "            m.pop()\n",
    "        if o[0]=='reverse':\n",
    "            m.reverse()     \n",
    "        if o[0]=='print':\n",
    "            print(m)\n"
   ]
  },
  {
   "cell_type": "code",
   "execution_count": null,
   "id": "2c4df098",
   "metadata": {},
   "outputs": [],
   "source": [
    "if __name__ == '__main__':\n",
    "    n = int(input())\n",
    "    integer_list = map(int, input().split())\n",
    "    m = tuple(integer_list)\n",
    "    print(hash(m))"
   ]
  },
  {
   "cell_type": "code",
   "execution_count": null,
   "id": "9819cb0b",
   "metadata": {},
   "outputs": [],
   "source": [
    "def average(array):\n",
    "    sumarray = sum(set(array))\n",
    "    lenarray = len(set(array))\n",
    "    output = sumarray/lenarray\n",
    "    return output\n",
    "\n",
    "if __name__ == '__main__':\n",
    "    n = int(input())\n",
    "    arr = list(map(int, input().split()))\n",
    "    result = average(arr)\n",
    "    print(result)"
   ]
  },
  {
   "cell_type": "code",
   "execution_count": null,
   "id": "c50fb161",
   "metadata": {},
   "outputs": [],
   "source": [
    "m,n=list(map(int, input().split()))\n",
    "q=list(map(int, input().split()))\n",
    "e=set(map(int, input().split()))\n",
    "s=set(map(int, input().split()))\n",
    "r=0\n",
    "for x in q:\n",
    "    if x in e:\n",
    "        r+=1\n",
    "    elif x in s:\n",
    "        r-=1\n",
    "print(r)"
   ]
  },
  {
   "cell_type": "code",
   "execution_count": null,
   "id": "7d93f627",
   "metadata": {},
   "outputs": [],
   "source": [
    "if __name__ == \"__main__\":\n",
    "    m = int(input().strip())\n",
    "    setm = set(map(int, input().strip().split(' ')))\n",
    "    n = int(input().strip())\n",
    "    setn = set(map(int, input().strip().split(' ')))\n",
    "    for j in sorted(setm ^ setn):\n",
    "        print(j)"
   ]
  },
  {
   "cell_type": "code",
   "execution_count": null,
   "id": "b3dbf08f",
   "metadata": {},
   "outputs": [],
   "source": [
    "N = int(rawinput())\n",
    "r = set(rawinput() for i in range(N))\n",
    "    \n",
    "print len(r)"
   ]
  },
  {
   "cell_type": "code",
   "execution_count": null,
   "id": "2bc4316c",
   "metadata": {},
   "outputs": [],
   "source": [
    "n = int(input())\n",
    "country = set()\n",
    "for i in range(n):\n",
    "    country.add(input())\n",
    "print(len(country))\n"
   ]
  },
  {
   "cell_type": "code",
   "execution_count": null,
   "id": "17e4c158",
   "metadata": {},
   "outputs": [],
   "source": [
    "n = int(input())\n",
    "d = set(map(int, input().split()))\n",
    "o = int(input())\n",
    "\n",
    "for x in range(o):\n",
    "  op = input().split()\n",
    "  if op[0] == \"remove\":\n",
    "    d.remove(int(op[1]))\n",
    "  elif op[0] == \"discard\":\n",
    "    d.discard(int(op[1]))\n",
    "  else:\n",
    "    d.pop()\n",
    "    \n",
    "print(sum(d))"
   ]
  },
  {
   "cell_type": "code",
   "execution_count": null,
   "id": "bb06f854",
   "metadata": {},
   "outputs": [],
   "source": [
    "n = int(input()), \n",
    "s1=set(input().split())\n",
    "n2=int(input()), \n",
    "s2=set(input().split())\n",
    "print(len(s1.union(s2)))"
   ]
  },
  {
   "cell_type": "code",
   "execution_count": null,
   "id": "77d846cf",
   "metadata": {},
   "outputs": [],
   "source": [
    "n = int(input()) \n",
    "s1=set(input().split())\n",
    "n2=int(input()) \n",
    "s2=set(input().split())\n",
    "print(len(s1.intersection(s2)))"
   ]
  },
  {
   "cell_type": "code",
   "execution_count": null,
   "id": "069a0949",
   "metadata": {},
   "outputs": [],
   "source": [
    "n = int(input())\n",
    "s1=set(input().split())\n",
    "n2=int(input()) \n",
    "s2=set(input().split())\n",
    "print(len(s1.difference(s2)))"
   ]
  },
  {
   "cell_type": "code",
   "execution_count": null,
   "id": "a527e046",
   "metadata": {},
   "outputs": [],
   "source": [
    "n = int(input()), \n",
    "s1=set(input().split())\n",
    "n2=int(input()), \n",
    "s2=set(input().split())\n",
    "print(len(s1.symmetric_difference(s2)))"
   ]
  },
  {
   "cell_type": "code",
   "execution_count": null,
   "id": "60e8519f",
   "metadata": {},
   "outputs": [],
   "source": [
    "z = input()\n",
    "c = set(int(x) for x in input().split(' '))\n",
    "\n",
    "g = int(input())\n",
    "for z in range(g):\n",
    "    opo, z = input().split(' ')\n",
    "    d = set(int(x) for x in input().split(' '))\n",
    "    if opo == \"update\":\n",
    "        c |= d\n",
    "    elif opo == \"intersection_update\":\n",
    "        c &= d\n",
    "    elif opo == \"difference_update\":\n",
    "        c -= d\n",
    "    elif opo == \"symmetric_difference_update\":\n",
    "        c ^= d\n",
    "\n",
    "print(sum(c))\n"
   ]
  },
  {
   "cell_type": "code",
   "execution_count": null,
   "id": "93f61e6d",
   "metadata": {},
   "outputs": [],
   "source": [
    " = int(input())\n",
    "rs = (int(x) for x in input().split(' '))\n",
    "s = {}\n",
    "\n",
    "for i in rs:\n",
    "    if not i in s:\n",
    "        s[i] = 1\n",
    "    else:\n",
    "        s[i] += 1\n",
    "\n",
    "for z, v in s.items():\n",
    "    if v != x:\n",
    "        print(z)"
   ]
  },
  {
   "cell_type": "code",
   "execution_count": null,
   "id": "b13bb8dc",
   "metadata": {},
   "outputs": [],
   "source": [
    "t = int(input())\n",
    "for i in range(t):\n",
    "    a = input()\n",
    "    x = set(input().split())\n",
    "    b = int(input())\n",
    "    y = set(input().split())\n",
    "    print(x.issubset(y))\n"
   ]
  },
  {
   "cell_type": "code",
   "execution_count": null,
   "id": "55f22497",
   "metadata": {},
   "outputs": [],
   "source": [
    "a = set(input().split())\n",
    "b = True\n",
    "for i in range(int(input())):\n",
    "    c = set(input().split())\n",
    "    if (a > c) == False:\n",
    "        b = False\n",
    "        break\n",
    "print(b)"
   ]
  },
  {
   "cell_type": "code",
   "execution_count": null,
   "id": "7e2a2b0f",
   "metadata": {},
   "outputs": [],
   "source": []
  },
  {
   "cell_type": "code",
   "execution_count": null,
   "id": "ff167e31",
   "metadata": {},
   "outputs": [],
   "source": []
  }
 ],
 "metadata": {
  "kernelspec": {
   "display_name": "Python 3 (ipykernel)",
   "language": "python",
   "name": "python3"
  },
  "language_info": {
   "codemirror_mode": {
    "name": "ipython",
    "version": 3
   },
   "file_extension": ".py",
   "mimetype": "text/x-python",
   "name": "python",
   "nbconvert_exporter": "python",
   "pygments_lexer": "ipython3",
   "version": "3.9.7"
  }
 },
 "nbformat": 4,
 "nbformat_minor": 5
}
